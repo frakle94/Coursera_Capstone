{
 "cells": [
  {
   "cell_type": "code",
   "execution_count": 33,
   "metadata": {},
   "outputs": [
    {
     "data": {
      "text/plain": [
       "0                                           Not assigned\n",
       "1                                           Not assigned\n",
       "2                                              Parkwoods\n",
       "3                                       Victoria Village\n",
       "4                              Regent Park, Harbourfront\n",
       "5                       Lawrence Manor, Lawrence Heights\n",
       "6            Queen's Park, Ontario Provincial Government\n",
       "7                                           Not assigned\n",
       "8                Islington Avenue, Humber Valley Village\n",
       "9                                         Malvern, Rouge\n",
       "10                                          Not assigned\n",
       "11                                             Don Mills\n",
       "12                       Parkview Hill, Woodbine Gardens\n",
       "13                              Garden District, Ryerson\n",
       "14                                             Glencairn\n",
       "15                                          Not assigned\n",
       "16                                          Not assigned\n",
       "17     West Deane Park, Princess Gardens, Martin Grov...\n",
       "18                Rouge Hill, Port Union, Highland Creek\n",
       "19                                          Not assigned\n",
       "20                                             Don Mills\n",
       "21                                      Woodbine Heights\n",
       "22                                        St. James Town\n",
       "23                                    Humewood-Cedarvale\n",
       "24                                          Not assigned\n",
       "25                                          Not assigned\n",
       "26     Eringate, Bloordale Gardens, Old Burnhamthorpe...\n",
       "27                     Guildwood, Morningside, West Hill\n",
       "28                                          Not assigned\n",
       "29                                          Not assigned\n",
       "                             ...                        \n",
       "150                                         Not assigned\n",
       "151                               Alderwood, Long Branch\n",
       "152                  Northwest, West Humber - Clairville\n",
       "153                                          Upper Rouge\n",
       "154                                         Not assigned\n",
       "155                                         Not assigned\n",
       "156                          St. James Town, Cabbagetown\n",
       "157               First Canadian Place, Underground city\n",
       "158                                         Not assigned\n",
       "159                                         Not assigned\n",
       "160        The Kingsway, Montgomery Road, Old Mill North\n",
       "161                                         Not assigned\n",
       "162                                         Not assigned\n",
       "163                                         Not assigned\n",
       "164                                         Not assigned\n",
       "165                                 Church and Wellesley\n",
       "166                                         Not assigned\n",
       "167                                         Not assigned\n",
       "168    Business reply mail Processing Centre, South C...\n",
       "169    Old Mill South, King's Mill Park, Sunnylea, Hu...\n",
       "170                                         Not assigned\n",
       "171                                         Not assigned\n",
       "172                                         Not assigned\n",
       "173                                         Not assigned\n",
       "174                                         Not assigned\n",
       "175                                         Not assigned\n",
       "176                                         Not assigned\n",
       "177                                         Not assigned\n",
       "178    Mimico NW, The Queensway West, South of Bloor,...\n",
       "179                                         Not assigned\n",
       "Name: Neighborhood, Length: 180, dtype: object"
      ]
     },
     "execution_count": 33,
     "metadata": {},
     "output_type": "execute_result"
    }
   ],
   "source": [
    "import pandas as pd\n",
    "df = pd.read_html('https://en.wikipedia.org/wiki/List_of_postal_codes_of_Canada:_M')[0]\n",
    "df['Neighborhood']"
   ]
  },
  {
   "cell_type": "code",
   "execution_count": 34,
   "metadata": {},
   "outputs": [],
   "source": [
    "nan_value = float(\"NaN\")\n",
    "\n",
    "df.replace(\"Not assigned\", nan_value, inplace=True)\n",
    "\n",
    "df.dropna(subset = [\"Borough\"], inplace=True)"
   ]
  },
  {
   "cell_type": "code",
   "execution_count": 35,
   "metadata": {},
   "outputs": [],
   "source": [
    "df['Neighborhood'].loc[df['Neighborhood'] == nan_value] = df['Borough']"
   ]
  },
  {
   "cell_type": "code",
   "execution_count": 40,
   "metadata": {},
   "outputs": [
    {
     "data": {
      "text/plain": [
       "(103, 3)"
      ]
     },
     "execution_count": 40,
     "metadata": {},
     "output_type": "execute_result"
    }
   ],
   "source": [
    "df.shape"
   ]
  },
  {
   "cell_type": "code",
   "execution_count": 41,
   "metadata": {},
   "outputs": [],
   "source": [
    "#END OF FIRST PART#"
   ]
  },
  {
   "cell_type": "code",
   "execution_count": null,
   "metadata": {},
   "outputs": [],
   "source": []
  }
 ],
 "metadata": {
  "kernelspec": {
   "display_name": "Python 3",
   "language": "python",
   "name": "python3"
  },
  "language_info": {
   "codemirror_mode": {
    "name": "ipython",
    "version": 3
   },
   "file_extension": ".py",
   "mimetype": "text/x-python",
   "name": "python",
   "nbconvert_exporter": "python",
   "pygments_lexer": "ipython3",
   "version": "3.6.4"
  }
 },
 "nbformat": 4,
 "nbformat_minor": 2
}
